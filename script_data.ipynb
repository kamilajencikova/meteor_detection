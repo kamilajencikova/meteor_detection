{
 "cells": [
  {
   "cell_type": "markdown",
   "metadata": {},
   "source": [
    "# Detekcia meteorov na rádiových spektrogramoch založená na konvolučných neurónových sieťach"
   ]
  },
  {
   "cell_type": "markdown",
   "metadata": {},
   "source": [
    "## Príprava pracovného prostredia pre spracovanie dát"
   ]
  },
  {
   "cell_type": "markdown",
   "metadata": {},
   "source": [
    "Inštalácia knižníc potrebných pre prácu."
   ]
  },
  {
   "cell_type": "code",
   "execution_count": null,
   "metadata": {},
   "outputs": [],
   "source": [
    "!pip install opencv-python \n",
    "!pip install python_utils\n",
    "!pip install python-csv\n",
    "!pip install pdf2image\n",
    "!pip install pandas\n",
    "!pip install numpy\n",
    "!pip install python-math\n",
    "!pip install jsonlib\n",
    "!pip install os-sys\n",
    "!pip install Pillow\n",
    "!pip install temp"
   ]
  },
  {
   "cell_type": "markdown",
   "metadata": {},
   "source": [
    "Import potrebných knižníc."
   ]
  },
  {
   "cell_type": "code",
   "execution_count": null,
   "metadata": {},
   "outputs": [],
   "source": [
    "import os\n",
    "import io\n",
    "import tempfile\n",
    "import zipfile,fnmatch\n",
    "import csv\n",
    "import pandas as pd\n",
    "import numpy as np\n",
    "import json\n",
    "import math \n",
    "from PIL import Image, ImageDraw\n",
    "import operator\n",
    "from skimage.io import imread\n",
    "import matplotlib.pyplot as plt\n",
    "import seaborn as sns\n",
    "import sys\n",
    "%matplotlib inline\n",
    "sns.set()\n",
    "import statistics as st\n",
    "import matplotlib.patches as patches"
   ]
  },
  {
   "cell_type": "markdown",
   "metadata": {},
   "source": [
    "## Príprava dát"
   ]
  },
  {
   "cell_type": "markdown",
   "metadata": {},
   "source": [
    "Načítanie dát do premennej."
   ]
  },
  {
   "cell_type": "code",
   "execution_count": null,
   "metadata": {},
   "outputs": [],
   "source": [
    "data=pd.read_csv(\"ozveny-classifications_3.csv\")\n",
    "#data=pd.read_csv(\"ozveny-dokoncenie-classifications.csv\")"
   ]
  },
  {
   "cell_type": "markdown",
   "metadata": {},
   "source": [
    "Odstránenie nepotrebných stĺpcov."
   ]
  },
  {
   "cell_type": "code",
   "execution_count": null,
   "metadata": {},
   "outputs": [],
   "source": [
    "data=data.drop('workflow_name',axis=1).drop('workflow_id',axis=1).drop('workflow_version',axis=1).drop('user_ip',axis=1).drop('created_at',axis=1).drop('gold_standard',axis=1).drop('expert',axis=1).drop('user_name',axis=1).drop('user_id',axis=1).drop('classification_id',axis=1)"
   ]
  },
  {
   "cell_type": "markdown",
   "metadata": {},
   "source": [
    "Uloženie cesty k výstupu do premennej output."
   ]
  },
  {
   "cell_type": "code",
   "execution_count": null,
   "metadata": {},
   "outputs": [],
   "source": [
    "output='output.csv'"
   ]
  },
  {
   "cell_type": "markdown",
   "metadata": {},
   "source": [
    "Uloženie cesty k dátam do premennej rootPath."
   ]
  },
  {
   "cell_type": "code",
   "execution_count": null,
   "metadata": {},
   "outputs": [],
   "source": [
    "rootPath=r\"data\""
   ]
  },
  {
   "cell_type": "markdown",
   "metadata": {},
   "source": [
    "Odstránenie chybných riadkov v dátach."
   ]
  },
  {
   "cell_type": "code",
   "execution_count": null,
   "metadata": {},
   "outputs": [],
   "source": [
    "i=0\n",
    "while(i<len(data)):\n",
    "    je_ozvena=json.loads(data.iloc[i,1])[0][\"value\"]\n",
    "    je_none=json.loads(data.iloc[i,1])[0][\"value\"]\n",
    "    if je_ozvena=='Áno':\n",
    "        dlzka=len(json.loads(data.iloc[i,1])[1][\"value\"])\n",
    "        if dlzka==0:\n",
    "            data=data.drop(data.index[i])\n",
    "    if je_none==None:\n",
    "        data=data.drop(data.index[i])\n",
    "    i+=1\n",
    "    "
   ]
  },
  {
   "cell_type": "markdown",
   "metadata": {},
   "source": [
    "Odstránené riadky iba zo súboru ozveny-classifications_3.csv je potrebné ostrániť aj v dátach."
   ]
  },
  {
   "cell_type": "code",
   "execution_count": null,
   "metadata": {},
   "outputs": [],
   "source": [
    "data=data.drop(data.index[492]) \n",
    "data=data.drop(data.index[519])\n",
    "data=data.drop(data.index[1774])\n",
    "data=data.drop(data.index[2452])"
   ]
  },
  {
   "cell_type": "markdown",
   "metadata": {},
   "source": [
    "Kód pre triedenie dát od duplicitných."
   ]
  },
  {
   "cell_type": "code",
   "execution_count": null,
   "metadata": {},
   "outputs": [],
   "source": [
    "output = \"filename.csv\"\n",
    "with open(output, mode='w') as csv_file:\n",
    "    columns = [\"filename\"]\n",
    "    write = csv.DictWriter(csv_file, fieldnames=columns)\n",
    "    write.writeheader()\n",
    "    i = 0\n",
    "    while (i < len(data)):\n",
    "        file_name = json.loads(data.iloc[i, 2])[str(data.iloc[i, 3])][\"Filename\"]\n",
    "        write.writerow(\n",
    "            {'filename': file_name})\n",
    "        i+=1\n",
    "    print(len(data))"
   ]
  },
  {
   "cell_type": "markdown",
   "metadata": {},
   "source": [
    "## Vykreslenie anotácií a vytvorenie výstupnej tabuľky\n",
    "### Vstupy\n",
    "data: premenná obsahujúca cestu k súborom ozveny-classifications_3.csv a ozveny-dokoncenie-classifications.csv <br>\n",
    "output: premenná obsahujúca cestu k výstupnému súboru <br>\n",
    "rootPath: premenná obsahujúca cestu k dátam bez anotácií"
   ]
  },
  {
   "cell_type": "code",
   "execution_count": null,
   "metadata": {},
   "outputs": [],
   "source": [
    "with open(output, mode='w') as csv_file:\n",
    "    stlpce=[\"event\",\"subject_id\",\"x\",\"y\",\"sirka\",\"vyska\",\"headecho\",\"typ_ozveny\"]\n",
    "    zapis=csv.DictWriter(csv_file,fieldnames=stlpce)\n",
    "    zapis.writeheader()\n",
    "    i=0\n",
    "    while (i<len(data)):\n",
    "        je_ozvena=json.loads(data.iloc[i,1])[0][\"value\"]\n",
    "        if je_ozvena==\"Áno\":\n",
    "            anotacia=json.loads(data.iloc[i,1])[1][\"value\"]\n",
    "            event=json.loads(data.iloc[i,2])[str(data.iloc[i,3])][\"Filename\"]\n",
    "            subject_id=json.loads(str(data.iloc[i,3]))\n",
    "            x=json.loads(data.iloc[i,1])[1][\"value\"][0][\"x\"]\n",
    "            y=json.loads(data.iloc[i,1])[1][\"value\"][0][\"y\"]\n",
    "            sirka=json.loads(data.iloc[i,1])[1][\"value\"][0][\"width\"]\n",
    "            vyska=json.loads(data.iloc[i,1])[1][\"value\"][0][\"height\"]\n",
    "            headecho=json.loads(data.iloc[i,1])[1][\"value\"][0][\"details\"][0][\"value\"]\n",
    "            if headecho==1:\n",
    "                headecho=\"nie\"\n",
    "            else:\n",
    "                headecho=\"ano\"\n",
    "            typ_ozveny=json.loads(data.iloc[i,1])[1][\"value\"][0][\"tool_label\"]\n",
    "            zapis.writerow({'event': event,'subject_id': subject_id,'x': x,'y':y,'sirka':sirka,'vyska':vyska,'headecho':headecho,'typ_ozveny':typ_ozveny})\n",
    "            for root, dirs, files in os.walk(rootPath):\n",
    "                for file in files:\n",
    "                    if file == event:\n",
    "                        im = Image.open(os.path.join(root, \"%s\" % (file)))\n",
    "                        im1 = ImageDraw.Draw(im)\n",
    "                        if (typ_ozveny==('Ozvena O (dlhá)' or 'Ozvena O')):\n",
    "                            shape=[(x, y), (x, y+vyska)]                 \n",
    "                            im1.line(shape, fill=\"white\", width=2)\n",
    "                            shape=[(x, y+vyska),(x+sirka,y+vyska) ]\n",
    "                            im1.line(shape, fill=\"white\", width=2)\n",
    "                            shape=[(x, y), (x+sirka, y)]\n",
    "                            im1.line(shape, fill=\"white\", width=2)\n",
    "                            shape=[(x+sirka, y),(x+sirka,y+vyska) ]\n",
    "                            im1.line(shape, fill=\"white\", width=2)\n",
    "                            print(\"File %s done.\" % (event))\n",
    "                            im.save(os.path.join('anotacie', \"1b%s\" % (file)))\n",
    "                        else:\n",
    "                            shape=[(x, y), (x, y+vyska)]\n",
    "                            im1.line(shape,fill=\"red\", width=2)\n",
    "                            shape=[(x, y+vyska),(x+sirka,y+vyska) ]\n",
    "                            im1.line(shape,fill=\"red\", width=2)\n",
    "                            shape=[(x, y), (x+sirka, y)]\n",
    "                            im1.line(shape,fill=\"red\", width=2)\n",
    "                            shape=[(x+sirka, y),(x+sirka,y+vyska) ]\n",
    "                            im1.line(shape,fill=\"red\", width=2)\n",
    "                            print(\"File %s done.\" % (event))\n",
    "                            im.save(os.path.join('anotacie', \"1%s\" % (file)))  \n",
    "            if (len(anotacia)>1):\n",
    "                event=json.loads(data.iloc[i,2])[str(data.iloc[i,3])][\"Filename\"]\n",
    "                subject_id=json.loads(str(data.iloc[i,3]))\n",
    "                x=json.loads(data.iloc[i,1])[1][\"value\"][1][\"x\"]\n",
    "                y=json.loads(data.iloc[i,1])[1][\"value\"][1][\"y\"]\n",
    "                sirka=json.loads(data.iloc[i,1])[1][\"value\"][1][\"width\"]\n",
    "                vyska=json.loads(data.iloc[i,1])[1][\"value\"][1][\"height\"]\n",
    "                headecho=json.loads(data.iloc[i,1])[1][\"value\"][1][\"details\"][0][\"value\"]\n",
    "                if headecho==1:\n",
    "                    headecho=\"nie\"\n",
    "                else:\n",
    "                    headecho=\"ano\"\n",
    "                typ_ozveny=json.loads(data.iloc[i,1])[1][\"value\"][1][\"tool_label\"]\n",
    "                zapis.writerow({'event': event,'subject_id': subject_id,'x': x,'y':y,'sirka':sirka,'vyska':vyska,'headecho':headecho,'typ_ozveny':typ_ozveny})\n",
    "                for root, dirs, files in os.walk(rootPath):\n",
    "                    for file in files:\n",
    "                        if file == event:\n",
    "                            im = Image.open(os.path.join(root, \"%s\" % (file)))\n",
    "                            im1 = ImageDraw.Draw(im)\n",
    "                            if (typ_ozveny==('Ozvena O (dlhá)' or 'Ozvena O')):\n",
    "                                shape=[(x, y), (x, y+vyska)]                 \n",
    "                                im1.line(shape, fill=\"white\", width=2)\n",
    "                                shape=[(x, y+vyska),(x+sirka,y+vyska) ]\n",
    "                                im1.line(shape, fill=\"white\", width=2)\n",
    "                                shape=[(x, y), (x+sirka, y)]\n",
    "                                im1.line(shape, fill=\"white\", width=2)\n",
    "                                shape=[(x+sirka, y),(x+sirka,y+vyska) ]\n",
    "                                im1.line(shape, fill=\"white\", width=2)\n",
    "                                print(\"File %s done.\" % (event))\n",
    "                                im.save(os.path.join('anotacie', \"2b%s\" % (file))) \n",
    "                            else:\n",
    "                                shape=[(x, y), (x, y+vyska)]\n",
    "                                im1.line(shape,fill=\"red\", width=2)\n",
    "                                shape=[(x, y+vyska),(x+sirka,y+vyska) ]\n",
    "                                im1.line(shape,fill=\"red\", width=2)\n",
    "                                shape=[(x, y), (x+sirka, y)]\n",
    "                                im1.line(shape,fill=\"red\", width=2)\n",
    "                                shape=[(x+sirka, y),(x+sirka,y+vyska) ]\n",
    "                                im1.line(shape,fill=\"red\", width=2)\n",
    "                                print(\"File %s done.\" % (event))\n",
    "                                im.save(os.path.join('anotacie', \"2%s\" % (file))) \n",
    "                if (len(anotacia)>2):\n",
    "                    event=json.loads(data.iloc[i,2])[str(data.iloc[i,3])][\"Filename\"]\n",
    "                    subject_id=json.loads(str(data.iloc[i,3]))\n",
    "                    x=json.loads(data.iloc[i,1])[1][\"value\"][2][\"x\"]\n",
    "                    y=json.loads(data.iloc[i,1])[1][\"value\"][2][\"y\"]\n",
    "                    sirka=json.loads(data.iloc[i,1])[1][\"value\"][2][\"width\"]\n",
    "                    vyska=json.loads(data.iloc[i,1])[1][\"value\"][2][\"height\"]\n",
    "                    headecho=json.loads(data.iloc[i,1])[1][\"value\"][2][\"details\"][0][\"value\"]\n",
    "                    if headecho==1:\n",
    "                        headecho=\"nie\"\n",
    "                    else:\n",
    "                        headecho=\"ano\"\n",
    "                    typ_ozveny=json.loads(data.iloc[i,1])[1][\"value\"][2][\"tool_label\"]\n",
    "                    zapis.writerow({'event': event,'subject_id': subject_id,'x': x,'y':y,'sirka':sirka,'vyska':vyska,'headecho':headecho,'typ_ozveny':typ_ozveny})\n",
    "                    for root, dirs, files in os.walk(rootPath):\n",
    "                        for file in files:\n",
    "                            if file == event:\n",
    "                                im = Image.open(os.path.join(root, \"%s\" % (file)))\n",
    "                                im1 = ImageDraw.Draw(im)\n",
    "                                if (typ_ozveny==('Ozvena O (dlhá)' or 'Ozvena O')):\n",
    "                                    shape=[(x, y), (x, y+vyska)]                 \n",
    "                                    im1.line(shape, fill=\"white\", width=2)\n",
    "                                    shape=[(x, y+vyska),(x+sirka,y+vyska) ]\n",
    "                                    im1.line(shape, fill=\"white\", width=2)\n",
    "                                    shape=[(x, y), (x+sirka, y)]\n",
    "                                    im1.line(shape, fill=\"white\", width=2)\n",
    "                                    shape=[(x+sirka, y),(x+sirka,y+vyska) ]\n",
    "                                    im1.line(shape, fill=\"white\", width=2)\n",
    "                                    print(\"File %s done.\" % (event))\n",
    "                                    im.save(os.path.join('anotacie', \"3b%s\" % (file)))\n",
    "                                else:\n",
    "                                    shape=[(x, y), (x, y+vyska)]\n",
    "                                    im1.line(shape,fill=\"red\", width=2)\n",
    "                                    shape=[(x, y+vyska),(x+sirka,y+vyska) ]\n",
    "                                    im1.line(shape,fill=\"red\", width=2)\n",
    "                                    shape=[(x, y), (x+sirka, y)]\n",
    "                                    im1.line(shape,fill=\"red\", width=2)\n",
    "                                    shape=[(x+sirka, y),(x+sirka,y+vyska) ]\n",
    "                                    im1.line(shape,fill=\"red\", width=2)\n",
    "                                    print(\"File %s done.\" % (event))\n",
    "                                    im.save(os.path.join('anotacie', \"3%s\" % (file)))\n",
    "                             \n",
    "                    if (len(anotacia)>3):\n",
    "                        event=json.loads(data.iloc[i,2])[str(data.iloc[i,3])][\"Filename\"]\n",
    "                        subject_id=json.loads(str(data.iloc[i,3]))\n",
    "                        x=json.loads(data.iloc[i,1])[1][\"value\"][3][\"x\"]\n",
    "                        y=json.loads(data.iloc[i,1])[1][\"value\"][3][\"y\"]\n",
    "                        sirka=json.loads(data.iloc[i,1])[1][\"value\"][3][\"width\"]\n",
    "                        vyska=json.loads(data.iloc[i,1])[1][\"value\"][3][\"height\"]\n",
    "                        headecho=json.loads(data.iloc[i,1])[1][\"value\"][3][\"details\"][0][\"value\"]\n",
    "                        if headecho==1:\n",
    "                            headecho=\"nie\"\n",
    "                        else:\n",
    "                            headecho=\"ano\"\n",
    "                        typ_ozveny=json.loads(data.iloc[i,1])[1][\"value\"][3][\"tool_label\"]\n",
    "                        zapis.writerow({'event': event,'subject_id': subject_id,'x': x,'y':y,'sirka':sirka,'vyska':vyska,'headecho':headecho,'typ_ozveny':typ_ozveny})\n",
    "                        for root, dirs, files in os.walk(rootPath):\n",
    "                            for file in files:\n",
    "                                if file == event:\n",
    "                                    im = Image.open(os.path.join(root, \"%s\" % (file)))\n",
    "                                    im1 = ImageDraw.Draw(im)\n",
    "                                    if (typ_ozveny==('Ozvena O (dlhá)' or 'Ozvena O')):\n",
    "                                        shape=[(x, y), (x, y+vyska)]                 \n",
    "                                        im1.line(shape, fill=\"white\", width=2)\n",
    "                                        shape=[(x, y+vyska),(x+sirka,y+vyska) ]\n",
    "                                        im1.line(shape, fill=\"white\", width=2)\n",
    "                                        shape=[(x, y), (x+sirka, y)]\n",
    "                                        im1.line(shape, fill=\"white\", width=2)\n",
    "                                        shape=[(x+sirka, y),(x+sirka,y+vyska) ]\n",
    "                                        im1.line(shape, fill=\"white\", width=2)\n",
    "                                        print(\"File %s done.\" % (event))\n",
    "                                        im.save(os.path.join('anotacie', \"4b%s\" % (file)))\n",
    "                                    else:\n",
    "                                        shape=[(x, y), (x, y+vyska)]\n",
    "                                        im1.line(shape,fill=\"red\", width=2)\n",
    "                                        shape=[(x, y+vyska),(x+sirka,y+vyska) ]\n",
    "                                        im1.line(shape,fill=\"red\", width=2)\n",
    "                                        shape=[(x, y), (x+sirka, y)]\n",
    "                                        im1.line(shape,fill=\"red\", width=2)\n",
    "                                        shape=[(x+sirka, y),(x+sirka,y+vyska) ]\n",
    "                                        im1.line(shape,fill=\"red\", width=2)\n",
    "                                        print(\"File %s done.\" % (event))\n",
    "                                        im.save(os.path.join('anotacie', \"4%s\" % (file)))\n",
    "                  \n",
    "        i+=1\n",
    "    "
   ]
  },
  {
   "cell_type": "markdown",
   "metadata": {},
   "source": [
    "## Vytvorenie textového súboru so súradnicami pre neurónovú sieť YOLO\n",
    "### Vstupy\n",
    "data: premenná obsahujúca cestu k súborom ozveny-classifications_3.csv a ozveny-dokoncenie-classifications.csv <br>\n",
    "rootPath: premenná obsahujúca cestu k dátam bez anotácií <br>\n",
    "textFile2: cesta k súboru, do ktorého sa dáta uložia"
   ]
  },
  {
   "cell_type": "code",
   "execution_count": null,
   "metadata": {},
   "outputs": [],
   "source": [
    "textFile2=os.getcwd()+\"/txt_ok2\"\n",
    "i=0\n",
    "while (i<len(data)):\n",
    "    je_ozvena2=json.loads(data.iloc[i,1])[0][\"value\"]\n",
    "    if je_ozvena2==\"Áno\":\n",
    "        anotacie2=json.loads(data.iloc[i,1])[1][\"value\"]     \n",
    "        event2=json.loads(data.iloc[i,2])[str(data.iloc[i,3])][\"Filename\"].split(\".\")     \n",
    "        nazovjpg=json.loads(data.iloc[i,2])[str(data.iloc[i,3])][\"Filename\"]\n",
    "        pocet2=0\n",
    "        with open(os.path.join(textFile2, \"%s.txt\" % (event2[0])), mode='w') as csv_file:\n",
    "            while(pocet2<len(anotacie2)):\n",
    "                subject_id2=json.loads(str(data.iloc[i,3]))\n",
    "                x2=json.loads(data.iloc[i,1])[1][\"value\"][pocet2][\"x\"]\n",
    "                y2=json.loads(data.iloc[i,1])[1][\"value\"][pocet2][\"y\"]\n",
    "                width2=json.loads(data.iloc[i,1])[1][\"value\"][pocet2][\"width\"]\n",
    "                height2=json.loads(data.iloc[i,1])[1][\"value\"][pocet2][\"height\"]\n",
    "                typ_ozveny2=json.loads(data.iloc[i,1])[1][\"value\"][pocet2][\"tool_label\"]\n",
    "                print(typ_ozveny2)\n",
    "                print(i,event2)\n",
    "                headecho2=json.loads(data.iloc[i,1])[1][\"value\"][pocet2][\"details\"][0][\"value\"]\n",
    "                print(headecho2)\n",
    "                obrazok=cv2.imread(\"pozitivne/\"+nazovjpg)  \n",
    "                vyska=obrazok.shape[0]\n",
    "                print(vyska)\n",
    "                if(headecho2==0):       \n",
    "                    if((typ_ozveny2==\"Ozvena U.\") or (typ_ozveny2==\"Ozvena U\") or (typ_ozveny2==\"Ozvena U (krátka)\") or (typ_ozveny2==\"Ozvena U (krátka).\")):       # krátka s headechom\n",
    "                        label=1\n",
    "                    elif((typ_ozveny2==\"Ozvena O (dlhá)\") or (typ_ozveny2==\"Ozvena O\") or (typ_ozveny2==\"Ozvena O.\") or (typ_ozveny2==\"Ozvena O (dlhá).\")):         # dlhá s headechom\n",
    "                        label=3\n",
    "                elif(headecho2==1): \n",
    "                    if((typ_ozveny2==\"Ozvena U.\") or (typ_ozveny2==\"Ozvena U\") or (typ_ozveny2==\"Ozvena U (krátka)\") or (typ_ozveny2==\"Ozvena U (krátka).\")):       # krátka bez headecha\n",
    "                        label=0\n",
    "                    elif((typ_ozveny2==\"Ozvena O (dlhá)\") or (typ_ozveny2==\"Ozvena O\") or (typ_ozveny2==\"Ozvena O.\") or (typ_ozveny2==\"Ozvena O (dlhá).\")):         # dlhá bez headecha\n",
    "                        label=2\n",
    "                print(label)\n",
    "                fieldnames1=[label,round(((x2+(width2/2))/1218),5),round(((y2+(height2/2))/vyska),5),round((width2/1218),5),round((height2/vyska),5)]\n",
    "                writer2=csv.DictWriter(csv_file,fieldnames=fieldnames1, delimiter=' ')\n",
    "                writer2.writeheader()\n",
    "                writer2.writerow({'label': label,'x': round(((x2+(width2/2))/1216),5),'y':round(((y2+(height2/2))/686),5),'width':round((width2/1216),5),'height':round((height2/686),5)})\n",
    "                print(\"Just made normalized txt file for %s\" % (event2[0]))\n",
    "                pocet2+=1\n",
    "    i+=1\n",
    "    \n"
   ]
  }
 ],
 "metadata": {
  "kernelspec": {
   "display_name": "Python 3",
   "language": "python",
   "name": "python3"
  },
  "language_info": {
   "codemirror_mode": {
    "name": "ipython",
    "version": 3
   },
   "file_extension": ".py",
   "mimetype": "text/x-python",
   "name": "python",
   "nbconvert_exporter": "python",
   "pygments_lexer": "ipython3",
   "version": "3.8.6"
  }
 },
 "nbformat": 4,
 "nbformat_minor": 4
}
