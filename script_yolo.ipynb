{
 "cells": [
  {
   "cell_type": "markdown",
   "metadata": {},
   "source": [
    "# Detekcia meteorov na rádiových spektrogramoch založená na konvolučných neurónových sieťach"
   ]
  },
  {
   "cell_type": "markdown",
   "metadata": {},
   "source": [
    "## Príprava pracovného prostredia pre prácu s YOLO"
   ]
  },
  {
   "cell_type": "markdown",
   "metadata": {},
   "source": [
    "Inštalácia knižníc potrebných pre prácu a klonovanie verzie YOLOv5s."
   ]
  },
  {
   "cell_type": "code",
   "execution_count": null,
   "metadata": {},
   "outputs": [],
   "source": [
    "!pip install opencv-contrib-python\n",
    "!git clone https://github.com/ultralytics/yolov5  # clone repo\n",
    "%cd yolov5\n",
    "%pip install -qr requirements.txt # install dependencies\n",
    "%pip install -q roboflow\n",
    "print(f\"Setup complete. Using torch {torch.__version__} ({torch.cuda.get_device_properties(0).name if torch.cuda.is_available() else 'CPU'})\")"
   ]
  },
  {
   "cell_type": "markdown",
   "metadata": {},
   "source": [
    "Import knižnýc potrebných na vytvorenie modelu."
   ]
  },
  {
   "cell_type": "code",
   "execution_count": null,
   "metadata": {},
   "outputs": [],
   "source": [
    "import torch\n",
    "import os\n",
    "import cv2\n",
    "import time\n",
    "import datetime\n",
    "import csv\n",
    "import PIL\n",
    "import tensorflow as tf\n",
    "import shutil\n",
    "import pandas as pd\n",
    "import numpy as np\n",
    "import json\n",
    "import math \n",
    "import scipy.io\n",
    "import scipy.misc\n",
    "from IPython.display import Image, clear_output\n",
    "from matplotlib.pyplot import imshow\n",
    "from PIL import Image, ImageDraw\n",
    "from skimage.io import imread\n",
    "from skimage.transform import resize\n",
    "from tensorflow.keras.models import load_model, Model\n",
    "from yolo_utils import read_classes, read_anchors, generate_colors, preprocess_image, draw_boxes, scale_boxes\n",
    "from sys import path\n",
    "from os import listdir\n",
    "from os.path import isfile, join"
   ]
  },
  {
   "cell_type": "markdown",
   "metadata": {},
   "source": [
    "## Uloženie len pozitívne označených dát\n",
    "### Vstupy\n",
    "data: premenná obsahujúca cestu k súborom ozveny-classifications_3.csv a ozveny-dokoncenie-classifications.csv <br>\n",
    "pozitivne2: súbor, do ktorého sa uložia len pozitívne anotované obrázky"
   ]
  },
  {
   "cell_type": "code",
   "execution_count": null,
   "metadata": {},
   "outputs": [],
   "source": [
    "data=pd.read_csv(\"ozveny-classifications_3.csv\")\n",
    "#data=pd.read_csv(\"ozveny-dokoncenie-classifications.csv\")\n",
    "i=0\n",
    "ano=0\n",
    "while (i<len(data)):\n",
    "        je_ozvena2=json.loads(data.iloc[i,1])[0][\"value\"]\n",
    "        if je_ozvena2==\"Áno\":\n",
    "            event2=json.loads(data.iloc[i,2])[str(data.iloc[i,3])][\"Filename\"]\n",
    "            for root, dirs, files in os.walk(rootPath):\n",
    "                for file in files:\n",
    "                    if file == event2:\n",
    "                        im = Image.open(os.path.join(root, \"%s\" % (file)))\n",
    "                        im.save(os.path.join('pozitivne2', \"%s\" % (file))) \n",
    "            ano+=1\n",
    "        i+=1    \n",
    "print(ano)   "
   ]
  },
  {
   "cell_type": "markdown",
   "metadata": {},
   "source": [
    "## Vytvorenie textových súborov pre jednotlivé množiny\n",
    "### Vstupy\n",
    "cesta_tren: cesta k súboru s dátami na trénovanie, ktorý sme vytvorili ručne <br>\n",
    "cesta_valid: cesta k súboru s dátami na validáciu, ktorý sme vytvorili ručne <br>\n",
    "cesta_test: cesta k súboru s dátami na testovanie, ktorý sme vytvorili ručne"
   ]
  },
  {
   "cell_type": "markdown",
   "metadata": {},
   "source": [
    "Vytvorenie textového súboru pre trénovaciu množinu."
   ]
  },
  {
   "cell_type": "code",
   "execution_count": null,
   "metadata": {},
   "outputs": [],
   "source": [
    "cesta_tren=os.getcwd()+\"/trenovacia\"              \n",
    "with open(\"trenovacia.txt\", \"w\") as a:\n",
    "    for path, subdirs, files in os.walk(cesta_tren):\n",
    "        for filename in files:\n",
    "            f = os.path.join(path, filename)\n",
    "            a.write(str(f) + os.linesep) "
   ]
  },
  {
   "cell_type": "markdown",
   "metadata": {},
   "source": [
    "Vytvorenie textového súboru pre validačnú množinu."
   ]
  },
  {
   "cell_type": "code",
   "execution_count": null,
   "metadata": {},
   "outputs": [],
   "source": [
    "cesta_valid=os.getcwd()+\"/validacna\"               \n",
    "with open(\"validacna.txt\", \"w\") as a:\n",
    "    for path, subdirs, files in os.walk(cesta_valid):\n",
    "        for filename in files:\n",
    "            f = os.path.join(path, filename)\n",
    "            a.write(str(f) + os.linesep) "
   ]
  },
  {
   "cell_type": "markdown",
   "metadata": {},
   "source": [
    "Vytvorenie textového súboru pre testovaciu množinu."
   ]
  },
  {
   "cell_type": "code",
   "execution_count": null,
   "metadata": {},
   "outputs": [],
   "source": [
    "cesta_test=os.getcwd()+\"/testovacia\"                        \n",
    "with open(\"testovacia.txt\", \"w\") as a:\n",
    "    for path, subdirs, files in os.walk(cesta_test):\n",
    "        for filename in files:\n",
    "            f = os.path.join(path, filename)\n",
    "            a.write(str(f) + os.linesep) "
   ]
  },
  {
   "cell_type": "markdown",
   "metadata": {},
   "source": [
    "## Vytvorenie YAML súboru\n",
    "### Vstupy\n",
    "train: cesta k textovému súboru trénovacích dát <br>\n",
    "test: cesta k textovému súboru testovacích dát <br>\n",
    "val: cesta k textovému súboru validačných dát <br>\n",
    "nc: počet tried, ktoré model bude rozlišovať <br>\n",
    "names: názvy jednotlivých tried zaradom "
   ]
  },
  {
   "cell_type": "markdown",
   "metadata": {},
   "source": [
    "#### Príklad YAML súboru\n",
    "train: /home/jovyan/data/lightning/Kamila/trenovacia.txt <br>\n",
    "test: /home/jovyan/data/lightning/Kamila/testovacia.txt <br>\n",
    "val: /home/jovyan/data/lightning/Kamila/validacna.txt <br>\n",
    "nc: 4 <br>\n",
    "names: ['U bez headecha','U s headechom','O bez headecha','O s headechom']"
   ]
  },
  {
   "cell_type": "markdown",
   "metadata": {},
   "source": [
    "## Trénovanie modelu\n",
    "### Vstupy\n",
    "cesta pre spustenie trénovania: yolov5/train.py <br>\n",
    "cesta k yaml súboru vstupných dát: /home/jovyan/data/lightning/Kamila/ozveny.yaml <br>\n",
    "cesta k yaml súboru modelu yolov5s: /home/jovyan/data/lightning/Kamila/yolov5/models/yolov5s.yaml"
   ]
  },
  {
   "cell_type": "code",
   "execution_count": null,
   "metadata": {},
   "outputs": [],
   "source": [
    "!python yolov5/train.py --img 609 --rect --batch 64 --epochs 400 --data /home/jovyan/data/lightning/Kamila/ozveny.yaml --cfg /home/jovyan/data/lightning/Kamila/yolov5/models/yolov5s.yaml --save-period 40 --workers 0"
   ]
  },
  {
   "cell_type": "markdown",
   "metadata": {},
   "source": [
    "## Detekcia modelu\n",
    "### Vstupy\n",
    "cesta pre spustenie testovania: yolov5/train.py <br>\n",
    "cesta k testovacím dátam: /home/jovyan/data/lightning/Kamila/testovacia <br>\n",
    "cesta k jednému zo súborov z trénovania: yolov5/runs/train/exp16/weights/best"
   ]
  },
  {
   "cell_type": "code",
   "execution_count": null,
   "metadata": {},
   "outputs": [],
   "source": [
    "!python yolov5/detect.py --source /home/jovyan/data/lightning/Kamila/testovacia --weights yolov5/runs/train/exp16/weights/best.pt --iou 0.3 --conf 0.24 --img 609 --save-txt --save-conf"
   ]
  },
  {
   "cell_type": "markdown",
   "metadata": {},
   "source": [
    "## Vytvorenie výstupnej tabuľky \n",
    "### Vstupy\n",
    "img_cesta: cesta k súboru s obrázkami detekcií <br>\n",
    "tab_cesta: cesta k súboru s textovými informáciami o detekciách <br>\n",
    "csvOut: premenná s názvom .csv súboru <br>\n",
    "path: premenná s cestou k informáciam o detekciách"
   ]
  },
  {
   "cell_type": "code",
   "execution_count": null,
   "metadata": {},
   "outputs": [],
   "source": [
    "img_cesta=os.getcwd()+\"/yolov5/runs/detect/exp34\"\n",
    "tab_cesta=os.getcwd()+\"/yolov5/runs/detect/exp34/labels\"\n",
    "csvOut='outputcsv34_2.csv'\n",
    "path='yolov5/runs/detect/exp34/labels'\n",
    "name=[f for f in listdir(tab_cesta) if isfile(join(tab_cesta, f))]\n",
    "with open(csvOut, mode='w') as csv_file:\n",
    "    fieldnames=['event name','label','x','y','width','height','confidence','length_in_sec','real_begins_in_sec','real_begins_in_time','picture_ends_in','date']\n",
    "    writer=csv.DictWriter(csv_file, fieldnames=fieldnames)\n",
    "    writer.writeheader()\n",
    "    for root, dirs, files in os.walk(path):\n",
    "        for name in files:\n",
    "            file=path+\"/\"+name\n",
    "            with open(file) as f:\n",
    "                meno=os.path.splitext(name)[0]\n",
    "                lines=f.readlines()\n",
    "                dlzka=len(lines)\n",
    "                i=0\n",
    "                while i<dlzka:\n",
    "                    try:\n",
    "                        image1=Image.open(os.path.join(img_cesta, name.split(\".\")[0]+\".jpg\"))\n",
    "                        image2=(os.path.join(img_cesta, name.split(\".\")[0])).split(\"/\")[10].split(\"_\")[1]\n",
    "                        image3=(os.path.join(img_cesta, name.split(\".\")[0])).split(\"/\")[10].split(\"_\")[0]\n",
    "                    except:\n",
    "                        break\n",
    "                    line=lines[i]\n",
    "                    splitted = line.split(\" \")\n",
    "                    list(map(lambda x:x.strip(),splitted))\n",
    "                    length=round((float(splitted[3])*(image1.size[0])*(5/168.5)),4)        \n",
    "                    real_beg=round((float(splitted[1])-(float(splitted[3]))/2)*(image1.size[0])*(5/168.5),4)\n",
    "                    begins=image2[0:2]+\":\"+image2[2:4]+\":\"+image2[4:6]\n",
    "                    t = datetime.time(int(image2[0:2]),int(image2[2:4]),int(image2[4:6]))\n",
    "                    date=image3[11:]+\".\"+image3[9:11]+\".\"+image3[5:9]\n",
    "                    od_zaciatku=str(real_beg)\n",
    "                    premena=od_zaciatku.split(\".\")\n",
    "                    sekundy3=int(premena[0])\n",
    "                    stotiny3=premena[1]\n",
    "                    ts = t.hour * 3600 + t.minute * 60 + t.second\n",
    "                    a=int(ts-35+sekundy3)\n",
    "                    conversion = datetime.timedelta(seconds=a)\n",
    "                    converted_time=str(conversion)+\":\"+str(stotiny3)[0:3]\n",
    "                    if(int(splitted[0])==0):\n",
    "                        a=\"krátka bez headecha\"\n",
    "                    if(int(splitted[0])==1):\n",
    "                        a=\"krátka s headechom\"\n",
    "                    if(int(splitted[0])==2):\n",
    "                        a=\"dlhá bez headecha\"\n",
    "                    if(int(splitted[0])==3):\n",
    "                        a=\"dlhá s headechom\"\n",
    "                    writer.writerow({\n",
    "                        'event name':meno,\n",
    "                        'label':a,                 \n",
    "                        'x':splitted[1], \n",
    "                        'y':splitted[2],\n",
    "                        'width':splitted[3],\n",
    "                        'height':splitted[4],\n",
    "                        'confidence':splitted[5],\n",
    "                        'length_in_sec':length,\n",
    "                        'real_begins_in_sec':real_beg,\n",
    "                        'real_begins_in_time':converted_time,\n",
    "                        'picture_ends_in':begins,\n",
    "                        'date':date})\n",
    "                    i=i+1\n"
   ]
  }
 ],
 "metadata": {
  "kernelspec": {
   "display_name": "Python 3",
   "language": "python",
   "name": "python3"
  },
  "language_info": {
   "codemirror_mode": {
    "name": "ipython",
    "version": 3
   },
   "file_extension": ".py",
   "mimetype": "text/x-python",
   "name": "python",
   "nbconvert_exporter": "python",
   "pygments_lexer": "ipython3",
   "version": "3.8.6"
  }
 },
 "nbformat": 4,
 "nbformat_minor": 4
}
